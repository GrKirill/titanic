{
 "cells": [
  {
   "cell_type": "code",
   "execution_count": 132,
   "metadata": {
    "collapsed": false
   },
   "outputs": [],
   "source": [
    "%matplotlib inline\n",
    "import matplotlib.pyplot as plt\n",
    "import seaborn as sns\n",
    "import numpy as np\n",
    "from sklearn import datasets\n",
    "\n",
    "from sklearn.cross_validation import train_test_split\n",
    "from sklearn.linear_model import LogisticRegressionCV\n",
    "\n",
    "from keras.models import Sequential\n",
    "from keras.layers.core import Dense, Activation\n",
    "from keras.optimizers import SGD\n",
    "from keras.utils import np_utils"
   ]
  },
  {
   "cell_type": "code",
   "execution_count": 55,
   "metadata": {
    "collapsed": false
   },
   "outputs": [
    {
     "name": "stdout",
     "output_type": "stream",
     "text": [
      "2.96773792534\n"
     ]
    }
   ],
   "source": [
    "#from scipy.stats import norm\n",
    "#print norm.ppf(0.9985)"
   ]
  },
  {
   "cell_type": "code",
   "execution_count": 295,
   "metadata": {
    "collapsed": false
   },
   "outputs": [],
   "source": [
    "boston = datasets.load_boston()"
   ]
  },
  {
   "cell_type": "code",
   "execution_count": 296,
   "metadata": {
    "collapsed": false
   },
   "outputs": [],
   "source": [
    "X = boston.data[:,5]\n",
    "y = boston.target"
   ]
  },
  {
   "cell_type": "code",
   "execution_count": 298,
   "metadata": {
    "collapsed": false
   },
   "outputs": [],
   "source": [
    "train_X, test_X, train_y, test_y = train_test_split(X, y, train_size=0.8, random_state=0)"
   ]
  },
  {
   "cell_type": "code",
   "execution_count": 323,
   "metadata": {
    "collapsed": true
   },
   "outputs": [
    {
     "name": "stdout",
     "output_type": "stream",
     "text": [
      "Epoch 1/100\n",
      "506/506 [==============================] - 1s - loss: 75.0128 - mean_absolute_error: 6.5219     \n",
      "Epoch 2/100\n",
      "506/506 [==============================] - 0s - loss: 64.9156 - mean_absolute_error: 5.9727     \n",
      "Epoch 3/100\n",
      "506/506 [==============================] - 0s - loss: 62.5699 - mean_absolute_error: 5.7948     \n",
      "Epoch 4/100\n",
      "506/506 [==============================] - 0s - loss: 65.4342 - mean_absolute_error: 5.9400     \n",
      "Epoch 5/100\n",
      "506/506 [==============================] - 0s - loss: 63.2955 - mean_absolute_error: 5.8851     \n",
      "Epoch 6/100\n",
      "506/506 [==============================] - 0s - loss: 63.0278 - mean_absolute_error: 5.9571     \n",
      "Epoch 7/100\n",
      "506/506 [==============================] - 0s - loss: 61.3572 - mean_absolute_error: 5.7567     \n",
      "Epoch 8/100\n",
      "506/506 [==============================] - 0s - loss: 62.4000 - mean_absolute_error: 5.8152     \n",
      "Epoch 9/100\n",
      "506/506 [==============================] - 0s - loss: 68.3825 - mean_absolute_error: 6.2706     \n",
      "Epoch 10/100\n",
      "506/506 [==============================] - 0s - loss: 67.5968 - mean_absolute_error: 6.0405     \n",
      "Epoch 11/100\n",
      "506/506 [==============================] - 0s - loss: 65.3818 - mean_absolute_error: 6.0144     \n",
      "Epoch 12/100\n",
      "506/506 [==============================] - 0s - loss: 67.6910 - mean_absolute_error: 6.0379     \n",
      "Epoch 13/100\n",
      "506/506 [==============================] - 0s - loss: 59.5295 - mean_absolute_error: 5.5791     \n",
      "Epoch 14/100\n",
      "506/506 [==============================] - 0s - loss: 62.1659 - mean_absolute_error: 5.7523     \n",
      "Epoch 15/100\n",
      "506/506 [==============================] - 0s - loss: 62.7001 - mean_absolute_error: 5.7830     \n",
      "Epoch 16/100\n",
      "506/506 [==============================] - 0s - loss: 62.7404 - mean_absolute_error: 5.8288     \n",
      "Epoch 17/100\n",
      "506/506 [==============================] - 0s - loss: 65.4422 - mean_absolute_error: 5.9895     \n",
      "Epoch 18/100\n",
      "506/506 [==============================] - 0s - loss: 60.9635 - mean_absolute_error: 5.6946     \n",
      "Epoch 19/100\n",
      "506/506 [==============================] - 0s - loss: 63.6900 - mean_absolute_error: 5.9298     \n",
      "Epoch 20/100\n",
      "506/506 [==============================] - 0s - loss: 63.5663 - mean_absolute_error: 5.8293     \n",
      "Epoch 21/100\n",
      "506/506 [==============================] - 0s - loss: 58.8728 - mean_absolute_error: 5.5533     \n",
      "Epoch 22/100\n",
      "506/506 [==============================] - 0s - loss: 58.7559 - mean_absolute_error: 5.5267     \n",
      "Epoch 23/100\n",
      "506/506 [==============================] - 0s - loss: 59.2490 - mean_absolute_error: 5.6582     \n",
      "Epoch 24/100\n",
      "506/506 [==============================] - 0s - loss: 60.8843 - mean_absolute_error: 5.6233     \n",
      "Epoch 25/100\n",
      "506/506 [==============================] - 0s - loss: 59.5119 - mean_absolute_error: 5.6016     \n",
      "Epoch 26/100\n",
      "506/506 [==============================] - 0s - loss: 57.0191 - mean_absolute_error: 5.4701     \n",
      "Epoch 27/100\n",
      "506/506 [==============================] - 0s - loss: 62.8891 - mean_absolute_error: 5.8874     \n",
      "Epoch 28/100\n",
      "506/506 [==============================] - 0s - loss: 60.0370 - mean_absolute_error: 5.6499     \n",
      "Epoch 29/100\n",
      "506/506 [==============================] - 0s - loss: 57.4532 - mean_absolute_error: 5.4434     \n",
      "Epoch 30/100\n",
      "506/506 [==============================] - 0s - loss: 56.2400 - mean_absolute_error: 5.3834     \n",
      "Epoch 31/100\n",
      "506/506 [==============================] - 0s - loss: 58.5240 - mean_absolute_error: 5.6239     \n",
      "Epoch 32/100\n",
      "506/506 [==============================] - 0s - loss: 59.8306 - mean_absolute_error: 5.6584     \n",
      "Epoch 33/100\n",
      "506/506 [==============================] - 0s - loss: 58.1318 - mean_absolute_error: 5.6402     \n",
      "Epoch 34/100\n",
      "506/506 [==============================] - 0s - loss: 55.1134 - mean_absolute_error: 5.3098     \n",
      "Epoch 35/100\n",
      "506/506 [==============================] - 0s - loss: 56.3766 - mean_absolute_error: 5.4116     \n",
      "Epoch 36/100\n",
      "506/506 [==============================] - 0s - loss: 56.2328 - mean_absolute_error: 5.4666     \n",
      "Epoch 37/100\n",
      "506/506 [==============================] - 0s - loss: 59.3472 - mean_absolute_error: 5.7050     \n",
      "Epoch 38/100\n",
      "506/506 [==============================] - 0s - loss: 56.4605 - mean_absolute_error: 5.3679     \n",
      "Epoch 39/100\n",
      "506/506 [==============================] - 0s - loss: 58.6760 - mean_absolute_error: 5.6182     \n",
      "Epoch 40/100\n",
      "506/506 [==============================] - 0s - loss: 54.4834 - mean_absolute_error: 5.4260     \n",
      "Epoch 41/100\n",
      "506/506 [==============================] - 0s - loss: 56.0346 - mean_absolute_error: 5.4161     \n",
      "Epoch 42/100\n",
      "506/506 [==============================] - 0s - loss: 55.8476 - mean_absolute_error: 5.3704     \n",
      "Epoch 43/100\n",
      "506/506 [==============================] - 0s - loss: 54.1170 - mean_absolute_error: 5.2342     \n",
      "Epoch 44/100\n",
      "506/506 [==============================] - 0s - loss: 53.7867 - mean_absolute_error: 5.1438     \n",
      "Epoch 45/100\n",
      "506/506 [==============================] - 0s - loss: 54.1672 - mean_absolute_error: 5.2871     \n",
      "Epoch 46/100\n",
      "506/506 [==============================] - 0s - loss: 53.4964 - mean_absolute_error: 5.1918     \n",
      "Epoch 47/100\n",
      "506/506 [==============================] - 0s - loss: 53.1843 - mean_absolute_error: 5.1995     \n",
      "Epoch 48/100\n",
      "506/506 [==============================] - 0s - loss: 49.3261 - mean_absolute_error: 5.0057     \n",
      "Epoch 49/100\n",
      "506/506 [==============================] - 0s - loss: 51.7684 - mean_absolute_error: 5.1387     \n",
      "Epoch 50/100\n",
      "506/506 [==============================] - 0s - loss: 54.7784 - mean_absolute_error: 5.2364     \n",
      "Epoch 51/100\n",
      "506/506 [==============================] - 0s - loss: 52.1479 - mean_absolute_error: 5.1929     \n",
      "Epoch 52/100\n",
      "506/506 [==============================] - 0s - loss: 50.2485 - mean_absolute_error: 5.0346     \n",
      "Epoch 53/100\n",
      "506/506 [==============================] - 0s - loss: 50.0562 - mean_absolute_error: 5.0419     \n",
      "Epoch 54/100\n",
      "506/506 [==============================] - 0s - loss: 52.2107 - mean_absolute_error: 5.1245     \n",
      "Epoch 55/100\n",
      "506/506 [==============================] - 0s - loss: 50.4997 - mean_absolute_error: 5.0495     \n",
      "Epoch 56/100\n",
      "506/506 [==============================] - 0s - loss: 50.0427 - mean_absolute_error: 5.0268     \n",
      "Epoch 57/100\n",
      "506/506 [==============================] - 0s - loss: 52.0395 - mean_absolute_error: 5.2397     \n",
      "Epoch 58/100\n",
      "506/506 [==============================] - 0s - loss: 50.4876 - mean_absolute_error: 5.0459     \n",
      "Epoch 59/100\n",
      "506/506 [==============================] - 0s - loss: 48.5526 - mean_absolute_error: 4.8975     \n",
      "Epoch 60/100\n",
      "506/506 [==============================] - 0s - loss: 49.9248 - mean_absolute_error: 5.0286     \n",
      "Epoch 61/100\n",
      "506/506 [==============================] - 0s - loss: 48.1584 - mean_absolute_error: 4.9859     \n",
      "Epoch 62/100\n",
      "506/506 [==============================] - 0s - loss: 46.2115 - mean_absolute_error: 4.8100     \n",
      "Epoch 63/100\n",
      "506/506 [==============================] - 0s - loss: 49.8921 - mean_absolute_error: 4.9398     \n",
      "Epoch 64/100\n",
      "506/506 [==============================] - 0s - loss: 46.4860 - mean_absolute_error: 4.7777     \n",
      "Epoch 65/100\n",
      "506/506 [==============================] - 0s - loss: 51.0693 - mean_absolute_error: 5.0071     \n",
      "Epoch 66/100\n",
      "506/506 [==============================] - 0s - loss: 48.0715 - mean_absolute_error: 4.8376     \n",
      "Epoch 67/100\n",
      "506/506 [==============================] - 0s - loss: 49.5677 - mean_absolute_error: 5.0701     \n",
      "Epoch 68/100\n",
      "506/506 [==============================] - 0s - loss: 49.0406 - mean_absolute_error: 4.9432     \n",
      "Epoch 69/100\n",
      "506/506 [==============================] - 0s - loss: 49.1016 - mean_absolute_error: 4.9203     \n",
      "Epoch 70/100\n",
      "506/506 [==============================] - 0s - loss: 50.7746 - mean_absolute_error: 5.0290     \n",
      "Epoch 71/100\n",
      "506/506 [==============================] - 0s - loss: 49.2282 - mean_absolute_error: 4.9799     \n",
      "Epoch 72/100\n",
      "506/506 [==============================] - 0s - loss: 48.5504 - mean_absolute_error: 4.9502     \n",
      "Epoch 73/100\n",
      "506/506 [==============================] - 0s - loss: 47.4405 - mean_absolute_error: 4.8224     \n",
      "Epoch 74/100\n",
      "506/506 [==============================] - 0s - loss: 47.1766 - mean_absolute_error: 4.7427     \n",
      "Epoch 75/100\n",
      "506/506 [==============================] - 0s - loss: 50.7109 - mean_absolute_error: 5.1154     \n",
      "Epoch 76/100\n",
      "506/506 [==============================] - 0s - loss: 46.5840 - mean_absolute_error: 4.7696     \n",
      "Epoch 77/100\n",
      "506/506 [==============================] - 0s - loss: 50.5352 - mean_absolute_error: 4.9968     \n",
      "Epoch 78/100\n",
      "506/506 [==============================] - 0s - loss: 48.7526 - mean_absolute_error: 4.9029     \n",
      "Epoch 79/100\n",
      "506/506 [==============================] - 0s - loss: 47.6569 - mean_absolute_error: 4.8510     \n",
      "Epoch 80/100\n",
      "506/506 [==============================] - 0s - loss: 47.5626 - mean_absolute_error: 4.8697     \n",
      "Epoch 81/100\n",
      "506/506 [==============================] - 0s - loss: 47.7678 - mean_absolute_error: 4.8150     \n",
      "Epoch 82/100\n",
      "506/506 [==============================] - 0s - loss: 47.4788 - mean_absolute_error: 4.8583     \n",
      "Epoch 83/100\n",
      "506/506 [==============================] - 0s - loss: 46.1342 - mean_absolute_error: 4.6629     \n",
      "Epoch 84/100\n",
      "506/506 [==============================] - 0s - loss: 49.4409 - mean_absolute_error: 4.9840     \n",
      "Epoch 85/100\n",
      "506/506 [==============================] - 0s - loss: 48.2289 - mean_absolute_error: 4.9402     \n",
      "Epoch 86/100\n",
      "506/506 [==============================] - 0s - loss: 45.8636 - mean_absolute_error: 4.6338     \n",
      "Epoch 87/100\n",
      "506/506 [==============================] - 0s - loss: 46.9579 - mean_absolute_error: 4.7658     \n",
      "Epoch 88/100\n",
      "506/506 [==============================] - 0s - loss: 45.8941 - mean_absolute_error: 4.6568     \n",
      "Epoch 89/100\n",
      "506/506 [==============================] - 0s - loss: 49.5503 - mean_absolute_error: 5.0305     \n",
      "Epoch 90/100\n",
      "506/506 [==============================] - 0s - loss: 47.8311 - mean_absolute_error: 4.9390     \n",
      "Epoch 91/100\n",
      "506/506 [==============================] - 0s - loss: 47.5341 - mean_absolute_error: 4.9122     \n",
      "Epoch 92/100\n",
      "506/506 [==============================] - 0s - loss: 46.5298 - mean_absolute_error: 4.8122     \n",
      "Epoch 93/100\n",
      "506/506 [==============================] - 0s - loss: 46.8710 - mean_absolute_error: 4.7675     \n",
      "Epoch 94/100\n",
      "506/506 [==============================] - 0s - loss: 45.9515 - mean_absolute_error: 4.7438     \n",
      "Epoch 95/100\n",
      "506/506 [==============================] - 0s - loss: 46.8111 - mean_absolute_error: 4.7898     \n",
      "Epoch 96/100\n",
      "506/506 [==============================] - 0s - loss: 46.8267 - mean_absolute_error: 4.7309     \n",
      "Epoch 97/100\n",
      "506/506 [==============================] - 0s - loss: 46.7683 - mean_absolute_error: 4.7703     \n",
      "Epoch 98/100\n",
      "506/506 [==============================] - 0s - loss: 45.6848 - mean_absolute_error: 4.6082     \n",
      "Epoch 99/100\n",
      "506/506 [==============================] - 0s - loss: 44.8581 - mean_absolute_error: 4.6682     \n",
      "Epoch 100/100\n",
      "506/506 [==============================] - 0s - loss: 48.1582 - mean_absolute_error: 4.9210     \n"
     ]
    },
    {
     "data": {
      "text/plain": [
       "<keras.callbacks.History at 0x1463e3910>"
      ]
     },
     "execution_count": 323,
     "metadata": {},
     "output_type": "execute_result"
    }
   ],
   "source": [
    "model = Sequential()\n",
    "model.add(Dense(200, input_shape=(1,), init = 'he_normal'))\n",
    "model.add(Activation('linear'))\n",
    "model.add(Dense(150))\n",
    "model.add(Activation('relu'))\n",
    "model.add(Dense(100))\n",
    "model.add(Activation('linear'))\n",
    "model.add(Dense(50))\n",
    "model.add(Activation('linear'))\n",
    "model.add(Dense(32))\n",
    "model.add(Activation('linear'))\n",
    "model.add(Dense(1))\n",
    "model.add(Activation('linear'))\n",
    "model.compile(optimizer='adam', loss='mean_squared_error', metrics=['mae'])\n",
    "model.fit(X, y, nb_epoch=100, batch_size=5)"
   ]
  },
  {
   "cell_type": "code",
   "execution_count": 325,
   "metadata": {
    "collapsed": true
   },
   "outputs": [
    {
     "data": {
      "text/plain": [
       "<matplotlib.collections.PathCollection at 0x147d15f10>"
      ]
     },
     "execution_count": 325,
     "metadata": {},
     "output_type": "execute_result"
    },
    {
     "data": {
      "image/png": "[encoded data removed]",
      "text/plain": [
       "<matplotlib.figure.Figure at 0x147c6c690>"
      ]
     },
     "metadata": {},
     "output_type": "display_data"
    }
   ],
   "source": [
    "#loss, accuracy = model.evaluate(test_X, test_y, verbose=0)\n",
    "#print(\"Accuracy = {:.2f}\".format(accuracy))\n",
    "plt.figure(figsize=(5,5))\n",
    "plt.scatter(X, model.predict(X))\n",
    "plt.scatter(X, y, color = 'r')"
   ]
  },
  {
   "cell_type": "code",
   "execution_count": null,
   "metadata": {
    "collapsed": true
   },
   "outputs": [],
   "source": []
  },
  {
   "cell_type": "code",
   "execution_count": null,
   "metadata": {
    "collapsed": true
   },
   "outputs": [],
   "source": []
  },
  {
   "cell_type": "code",
   "execution_count": 329,
   "metadata": {
    "collapsed": false
   },
   "outputs": [],
   "source": [
    "from keras.datasets import mnist # subroutines for fetching the MNIST dataset\n",
    "from keras.models import Model # basic class for specifying and training a neural network\n",
    "from keras.layers import Input, Dense # the two types of neural network layer we will be using\n",
    "from keras.utils import np_utils # utilities for one-hot encoding of ground truth values"
   ]
  },
  {
   "cell_type": "code",
   "execution_count": 330,
   "metadata": {
    "collapsed": true
   },
   "outputs": [],
   "source": [
    "batch_size = 128 # in each iteration, we consider 128 training examples at once\n",
    "num_epochs = 20 # we iterate twenty times over the entire training set\n",
    "hidden_size = 512 # there will be 512 neurons in both hidden layers"
   ]
  },
  {
   "cell_type": "code",
   "execution_count": 331,
   "metadata": {
    "collapsed": true
   },
   "outputs": [],
   "source": [
    "num_train = 60000 # there are 60000 training examples in MNIST\n",
    "num_test = 10000 # there are 10000 test examples in MNIST\n",
    "\n",
    "height, width, depth = 28, 28, 1 # MNIST images are 28x28 and greyscale\n",
    "num_classes = 10 # there are 10 classes (1 per digit)\n",
    "\n",
    "(X_train, y_train), (X_test, y_test) = mnist.load_data() # fetch MNIST data\n",
    "\n",
    "X_train = X_train.reshape(num_train, height * width) # Flatten data to 1D\n",
    "X_test = X_test.reshape(num_test, height * width) # Flatten data to 1D\n",
    "X_train = X_train.astype('float32') \n",
    "X_test = X_test.astype('float32')\n",
    "X_train /= 255 # Normalise data to [0, 1] range\n",
    "X_test /= 255 # Normalise data to [0, 1] range\n",
    "\n",
    "Y_train = np_utils.to_categorical(y_train, num_classes) # One-hot encode the labels\n",
    "Y_test = np_utils.to_categorical(y_test, num_classes) # One-hot encode the labels"
   ]
  },
  {
   "cell_type": "code",
   "execution_count": 332,
   "metadata": {
    "collapsed": true
   },
   "outputs": [],
   "source": [
    "inp = Input(shape=(height * width,)) # Our input is a 1D vector of size 784\n",
    "hidden_1 = Dense(hidden_size, activation='relu')(inp) # First hidden ReLU layer\n",
    "hidden_2 = Dense(hidden_size, activation='relu')(hidden_1) # Second hidden ReLU layer\n",
    "out = Dense(num_classes, activation='softmax')(hidden_2) # Output softmax layer\n",
    "\n",
    "model = Model(input=inp, output=out) # To define a model, just specify its input and output layers"
   ]
  },
  {
   "cell_type": "code",
   "execution_count": 333,
   "metadata": {
    "collapsed": true
   },
   "outputs": [],
   "source": [
    "model.compile(loss='categorical_crossentropy', # using the cross-entropy loss function\n",
    "              optimizer='adam', # using the Adam optimiser\n",
    "              metrics=['accuracy']) # reporting the accuracy"
   ]
  },
  {
   "cell_type": "code",
   "execution_count": 334,
   "metadata": {
    "collapsed": false
   },
   "outputs": [
    {
     "name": "stdout",
     "output_type": "stream",
     "text": [
      "Train on 54000 samples, validate on 6000 samples\n",
      "Epoch 1/20\n",
      "54000/54000 [==============================] - 14s - loss: 0.2313 - acc: 0.9319 - val_loss: 0.1088 - val_acc: 0.9707\n",
      "Epoch 2/20\n",
      "54000/54000 [==============================] - 12s - loss: 0.0836 - acc: 0.9739 - val_loss: 0.0851 - val_acc: 0.9758\n",
      "Epoch 3/20\n",
      "54000/54000 [==============================] - 12s - loss: 0.0534 - acc: 0.9835 - val_loss: 0.0824 - val_acc: 0.9742\n",
      "Epoch 4/20\n",
      "54000/54000 [==============================] - 11s - loss: 0.0354 - acc: 0.9891 - val_loss: 0.0814 - val_acc: 0.9780\n",
      "Epoch 5/20\n",
      "54000/54000 [==============================] - 11s - loss: 0.0291 - acc: 0.9902 - val_loss: 0.0673 - val_acc: 0.9830\n",
      "Epoch 6/20\n",
      "54000/54000 [==============================] - 12s - loss: 0.0211 - acc: 0.9930 - val_loss: 0.0767 - val_acc: 0.9830\n",
      "Epoch 7/20\n",
      "54000/54000 [==============================] - 11s - loss: 0.0191 - acc: 0.9934 - val_loss: 0.0798 - val_acc: 0.9817\n",
      "Epoch 8/20\n",
      "54000/54000 [==============================] - 11s - loss: 0.0161 - acc: 0.9943 - val_loss: 0.0892 - val_acc: 0.9798\n",
      "Epoch 9/20\n",
      "54000/54000 [==============================] - 10s - loss: 0.0135 - acc: 0.9955 - val_loss: 0.0916 - val_acc: 0.9810\n",
      "Epoch 10/20\n",
      "54000/54000 [==============================] - 10s - loss: 0.0159 - acc: 0.9945 - val_loss: 0.0868 - val_acc: 0.9790\n",
      "Epoch 11/20\n",
      "54000/54000 [==============================] - 11s - loss: 0.0114 - acc: 0.9965 - val_loss: 0.1239 - val_acc: 0.9753\n",
      "Epoch 12/20\n",
      "54000/54000 [==============================] - 11s - loss: 0.0160 - acc: 0.9945 - val_loss: 0.0870 - val_acc: 0.9795\n",
      "Epoch 13/20\n",
      "54000/54000 [==============================] - 10s - loss: 0.0080 - acc: 0.9971 - val_loss: 0.0908 - val_acc: 0.9805\n",
      "Epoch 14/20\n",
      "54000/54000 [==============================] - 10s - loss: 0.0093 - acc: 0.9971 - val_loss: 0.0923 - val_acc: 0.9823\n",
      "Epoch 15/20\n",
      "54000/54000 [==============================] - 11s - loss: 0.0108 - acc: 0.9962 - val_loss: 0.0923 - val_acc: 0.9808\n",
      "Epoch 16/20\n",
      "54000/54000 [==============================] - 10s - loss: 0.0099 - acc: 0.9969 - val_loss: 0.0890 - val_acc: 0.9842\n",
      "Epoch 17/20\n",
      "54000/54000 [==============================] - 10s - loss: 0.0075 - acc: 0.9977 - val_loss: 0.0919 - val_acc: 0.9808\n",
      "Epoch 18/20\n",
      "54000/54000 [==============================] - 10s - loss: 0.0108 - acc: 0.9965 - val_loss: 0.0880 - val_acc: 0.9840\n",
      "Epoch 19/20\n",
      "54000/54000 [==============================] - 11s - loss: 0.0081 - acc: 0.9975 - val_loss: 0.1001 - val_acc: 0.9833\n",
      "Epoch 20/20\n",
      "54000/54000 [==============================] - 10s - loss: 0.0054 - acc: 0.9982 - val_loss: 0.1005 - val_acc: 0.9813\n",
      " 9632/10000 [===========================>..] - ETA: 0s"
     ]
    },
    {
     "data": {
      "text/plain": [
       "[0.092549019902675403, 0.98209999999999997]"
      ]
     },
     "execution_count": 334,
     "metadata": {},
     "output_type": "execute_result"
    }
   ],
   "source": [
    "model.fit(X_train, Y_train, # Train the model using the training set...\n",
    "          batch_size=batch_size, nb_epoch=num_epochs,\n",
    "          verbose=1, validation_split=0.1) # ...holding out 10% of the data for validation\n",
    "model.evaluate(X_test, Y_test, verbose=1) # Evaluate the trained model on the test set!"
   ]
  },
  {
   "cell_type": "code",
   "execution_count": null,
   "metadata": {
    "collapsed": true
   },
   "outputs": [],
   "source": []
  },
  {
   "cell_type": "code",
   "execution_count": null,
   "metadata": {
    "collapsed": true
   },
   "outputs": [],
   "source": []
  },
  {
   "cell_type": "code",
   "execution_count": 116,
   "metadata": {
    "collapsed": false
   },
   "outputs": [
    {
     "data": {
      "text/plain": [
       "<matplotlib.collections.PathCollection at 0x1330516d0>"
      ]
     },
     "execution_count": 116,
     "metadata": {},
     "output_type": "execute_result"
    },
    {
     "data": {
      "image/png": "[encoded data removed]",
      "text/plain": [
       "<matplotlib.figure.Figure at 0x133357950>"
      ]
     },
     "metadata": {},
     "output_type": "display_data"
    }
   ],
   "source": [
    "x = np.linspace(-3,3,1000)\n",
    "def f(x):\n",
    "    return x * np.sin(x * 2 * np.pi) if x <= 0 else -x * np.sin(x * np.pi) + np.exp(x / 2)\n",
    "f = np.vectorize(f)\n",
    "y = f(x)\n",
    "\n",
    "model = Sequential()\n",
    "model.add(Dense(100, input_dim=1,  init = 'he_normal'))\n",
    "model.add(Activation('tanh'))\n",
    "model.add(Dense(50, init = 'he_normal'))\n",
    "model.add(Activation('tanh'))\n",
    "model.add(Dense(1, input_dim=1, init = 'he_normal'))\n",
    "model.add(Activation('linear'))\n",
    "sgd = SGD(lr = 0.01, momentum = 0.9, nesterov = True)\n",
    "model.compile(loss = 'mean_squared_error', optimizer = sgd )\n",
    "model.fit(x,y, nb_epoch = 400, verbose = 0)\n",
    "plt.plot(x, model.predict(x), color = 'red')\n",
    "plt.scatter(x, f(x), color = 'black')"
   ]
  }
 ],
 "metadata": {
  "anaconda-cloud": {},
  "kernelspec": {
   "display_name": "Python 2",
   "language": "python",
   "name": "python2"
  },
  "language_info": {
   "codemirror_mode": {
    "name": "ipython",
    "version": 2
   },
   "file_extension": ".py",
   "mimetype": "text/x-python",
   "name": "python",
   "nbconvert_exporter": "python",
   "pygments_lexer": "ipython2",
   "version": "2.7.12"
  }
 },
 "nbformat": 4,
 "nbformat_minor": 1
}
